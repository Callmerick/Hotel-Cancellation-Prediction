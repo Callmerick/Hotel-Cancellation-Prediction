{
  "nbformat": 4,
  "nbformat_minor": 0,
  "metadata": {
    "colab": {
      "name": "Hotel Cancellation Prediction_Logistic Regression.ipynb",
      "provenance": [],
      "collapsed_sections": []
    },
    "kernelspec": {
      "display_name": "Python 3",
      "language": "python",
      "name": "python3"
    },
    "language_info": {
      "codemirror_mode": {
        "name": "ipython",
        "version": 3
      },
      "file_extension": ".py",
      "mimetype": "text/x-python",
      "name": "python",
      "nbconvert_exporter": "python",
      "pygments_lexer": "ipython3",
      "version": "3.7.6"
    }
  },
  "cells": [
    {
      "cell_type": "code",
      "metadata": {
        "colab": {
          "background_save": true
        },
        "id": "dSrlMudVzkLK"
      },
      "source": [
        "# Load the data from the Apporto machine to the Colab environment\n",
        "\n",
        "from google.colab import files\n",
        "uploaded = files.upload()"
      ],
      "execution_count": null,
      "outputs": []
    },
    {
      "cell_type": "code",
      "metadata": {
        "colab": {
          "background_save": true
        },
        "id": "4i9RU4C60E2e"
      },
      "source": [
        "import pandas as pd\n",
        "import seaborn as sns\n",
        "import numpy as np\n",
        "import matplotlib.pyplot as plt\n",
        "from sklearn.metrics import roc_auc_score"
      ],
      "execution_count": null,
      "outputs": []
    },
    {
      "cell_type": "code",
      "metadata": {
        "colab": {
          "background_save": true
        },
        "id": "qx6Gdgiv03zY"
      },
      "source": [
        "# Read data from a CSV file into a data frame\n",
        "df = pd.read_csv('Hotel Cancellation.csv')\n",
        "\n",
        "# Display the first ten rows of the data frame to examine if it is an individual-level data set\n",
        "df.head(10)"
      ],
      "execution_count": null,
      "outputs": []
    },
    {
      "cell_type": "code",
      "metadata": {
        "colab": {
          "background_save": true
        },
        "id": "z86WGx3-V7UZ"
      },
      "source": [
        "#Part 1: Data Partition:\n",
        "\n",
        "from sklearn.model_selection import train_test_split\n",
        "\n",
        "#Splitting the data into our partitions will return two dataframes, so we must prep like so:\n",
        "testpart_size = .2\n",
        "df_partition = df\n",
        "\n",
        "df_nontestdata, df_testdata = train_test_split(df_partition, test_size = testpart_size, random_state = 1)\n",
        "\n",
        "df_nontestdata"
      ],
      "execution_count": null,
      "outputs": []
    },
    {
      "cell_type": "code",
      "metadata": {
        "colab": {
          "background_save": true
        },
        "id": "6dXkkoewV7UZ"
      },
      "source": [
        "def profit_calculation(model, x_value, y_value):\n",
        "  d_cutoff = 1/2\n",
        "\n",
        "  decision = list(model.predict_proba(x_value)[:,1] < d_cutoff)   \n",
        "  y = list(y_value)\n",
        "  n_obs = len(y)\n",
        "    \n",
        "  cum_profit = 0\n",
        "\n",
        "  for i in range(n_obs):\n",
        "      if decision[i] == True and y[i] == 1: \n",
        "          profit = -2 \n",
        "      elif decision[i] == True and y[i] == 0: \n",
        "          profit = 10 \n",
        "      elif decision[i] == False and y[i] == 1: \n",
        "          profit = 0\n",
        "      else:\n",
        "          profit = 8 \n",
        "      cum_profit = cum_profit + profit \n",
        "\n",
        "  average_net_profit = cum_profit / n_obs \n",
        "  return average_net_profit"
      ],
      "execution_count": null,
      "outputs": []
    },
    {
      "cell_type": "code",
      "metadata": {
        "colab": {
          "background_save": true
        },
        "id": "emEZVoZRV7UZ"
      },
      "source": [
        "#Logistic Regression Analysis:\n",
        "from sklearn.linear_model import LogisticRegression, LogisticRegressionCV\n",
        "\n",
        "DV = 'is_canceled'\n",
        "y = df_nontestdata[DV]\n",
        "X = df_nontestdata.drop(columns = [DV])\n",
        "\n",
        "def summary_coef(model_object):\n",
        "    n_predictors = X.shape[1]\n",
        "    model_coef = pd.DataFrame(model_object.coef_.reshape(1,n_predictors),columns = X.columns.values)\n",
        "    model_coef['Intercept'] = model_object.intercept_\n",
        "    return (model_coef.transpose())"
      ],
      "execution_count": null,
      "outputs": []
    },
    {
      "cell_type": "code",
      "metadata": {
        "colab": {
          "background_save": true,
          "base_uri": "https://localhost:8080/"
        },
        "id": "Of-SsqEcV7UZ",
        "outputId": "82eed928-b37e-4468-a3c4-a349e6d74926"
      },
      "source": [
        "kfolds=5\n",
        "\n",
        "min_alpha = .01\n",
        "max_alpha = 100\n",
        "\n",
        "max_C = 1/min_alpha\n",
        "min_C = 1/max_alpha\n",
        "\n",
        "n_candidates = 5000\n",
        "c_list= list(np.linspace(min_C, max_C, num = n_candidates))\n",
        "\n",
        "\n",
        "#Plug in clf_optimal to our previous Logistic model to find the optimal predictors\n",
        "clf_optimal = LogisticRegressionCV(Cs = c_list,cv=kfolds, penalty = 'l1', scoring='roc_auc',\n",
        "                                   solver='saga',max_iter=200, random_state=1, n_jobs = -1).fit(X,y)\n",
        "\n",
        "#Find the optimal selected alpha\n",
        "print(1/clf_optimal.C_)"
      ],
      "execution_count": null,
      "outputs": [
        {
          "output_type": "stream",
          "text": [
            "[0.10234392]\n"
          ],
          "name": "stdout"
        }
      ]
    },
    {
      "cell_type": "code",
      "metadata": {
        "colab": {
          "background_save": true
        },
        "id": "hoLmrG9gV7UZ",
        "outputId": "760dc494-c56d-45aa-c7c7-2c703a4f02fb"
      },
      "source": [
        "#Calculate Performance of Final Selected Model Over Test Partition\n",
        "\n",
        "#Actual values of the DV in the test partition\n",
        "y_test_actual = df_testdata[DV]\n",
        "\n",
        "#Predictor values in the test_partition\n",
        "X_test = df_testdata.drop(columns = [DV])\n",
        "\n",
        "#Predicted values of the DV in the test partition\n",
        "y_test_predicted = clf_optimal.predict(X_test)\n",
        "\n",
        "n_obs_test = df_testdata.shape[0]\n",
        "\n",
        "from sklearn import metrics\n",
        "print(metrics.confusion_matrix(y_test_actual, y_test_predicted))"
      ],
      "execution_count": null,
      "outputs": [
        {
          "output_type": "stream",
          "text": [
            "[[13822  1279]\n",
            " [ 3538  5239]]\n"
          ],
          "name": "stdout"
        }
      ]
    },
    {
      "cell_type": "code",
      "metadata": {
        "colab": {
          "background_save": true
        },
        "id": "fpUMw2-iixh6",
        "outputId": "7f74c373-47f1-403c-cd8d-caea7f55b61e"
      },
      "source": [
        "#Calculate ROC_ACU score\n",
        "print(roc_auc_score(y_test_actual, clf_optimal.predict_proba(X_test)[:,1]))"
      ],
      "execution_count": null,
      "outputs": [
        {
          "output_type": "stream",
          "text": [
            "0.8671642726600972\n"
          ],
          "name": "stdout"
        }
      ]
    },
    {
      "cell_type": "code",
      "metadata": {
        "colab": {
          "background_save": true
        },
        "id": "8avNFqKhV7UZ",
        "outputId": "2ec0a7ac-d040-4ba7-e4df-6c21ac57c6d9"
      },
      "source": [
        "coefs = np.abs(clf_optimal.coef_[0])\n",
        "indices = np.argsort(coefs)[::-1]\n",
        "\n",
        "plt.figure(figsize=(15,10))\n",
        "plt.title(\"Feature importances (Logistic Regression)\")\n",
        "plt.bar(range(10), coefs[indices[:10]],\n",
        "       color=\"r\", align=\"center\")\n",
        "plt.xticks(range(10), X.columns[indices[:10]], rotation=45, ha='right')\n",
        "plt.show()"
      ],
      "execution_count": null,
      "outputs": [
        {
          "output_type": "display_data",
          "data": {
            "image/png": "[encoded data removed]",
            "text/plain": [
              "<Figure size 1080x720 with 1 Axes>"
            ]
          },
          "metadata": {
            "tags": []
          }
        }
      ]
    },
    {
      "cell_type": "code",
      "metadata": {
        "colab": {
          "background_save": true
        },
        "id": "zYJMlPLmV7UZ",
        "outputId": "d11cce75-2598-4bf7-e011-cc755c53a488"
      },
      "source": [
        "# logistic regression that is maximize the average net profit\n",
        "min_alpha = .01\n",
        "max_alpha = 100\n",
        "\n",
        "max_C = 1/min_alpha\n",
        "min_C = 1/max_alpha\n",
        "\n",
        "n_candidates = 5000\n",
        "c_list= list(np.linspace(min_C, max_C, num = n_candidates))\n",
        "\n",
        "\n",
        "#Plug in clf_optimal to our previous Logistic model to find the optimal predictors\n",
        "clf_profit = LogisticRegressionCV(Cs = c_list,cv=kfolds, penalty = 'l1', scoring=profit_calculation,\n",
        "                                   solver='saga',max_iter=200, random_state=1, n_jobs = -1).fit(X,y)\n",
        "\n",
        "#print the average net profit\n",
        "print(profit_calculation(clf_profit, X, y))"
      ],
      "execution_count": null,
      "outputs": [
        {
          "output_type": "stream",
          "text": [
            "5.8831769829969005\n"
          ],
          "name": "stdout"
        }
      ]
    }
  ]
}