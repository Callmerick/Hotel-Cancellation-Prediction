{
 "cells": [
  {
   "cell_type": "markdown",
   "metadata": {
    "id": "twEBSrBJQot3"
   },
   "source": [
    "Data Description: https://www.kaggle.com/jessemostipak/hotel-booking-demand"
   ]
  },
  {
   "cell_type": "code",
   "execution_count": 1,
   "metadata": {},
   "outputs": [],
   "source": [
    "import pandas as pd \n",
    "from pandas import DataFrame\n",
    "import numpy as np\n",
    "\n",
    "import sklearn\n",
    "from sklearn.metrics import confusion_matrix\n",
    "from sklearn.linear_model import Lasso,LassoCV\n",
    "from sklearn.model_selection import train_test_split\n",
    "from sklearn.metrics import mean_squared_error\n",
    "\n",
    "import seaborn as sns\n",
    "import matplotlib.pyplot as plt"
   ]
  },
  {
   "cell_type": "markdown",
   "metadata": {
    "id": "dm6hP9IahQ-X"
   },
   "source": [
    "## Data Cleaning & Preparation"
   ]
  },
  {
   "cell_type": "code",
   "execution_count": 2,
   "metadata": {
    "colab": {
     "base_uri": "https://localhost:8080/",
     "height": 549
    },
    "id": "Zadh_qVVH-Jx",
    "outputId": "26c6e374-5190-4a1f-927c-f9d9b4268392"
   },
   "outputs": [
    {
     "data": {
      "text/html": [
       "<div>\n",
       "<style scoped>\n",
       "    .dataframe tbody tr th:only-of-type {\n",
       "        vertical-align: middle;\n",
       "    }\n",
       "\n",
       "    .dataframe tbody tr th {\n",
       "        vertical-align: top;\n",
       "    }\n",
       "\n",
       "    .dataframe thead th {\n",
       "        text-align: right;\n",
       "    }\n",
       "</style>\n",
       "<table border=\"1\" class=\"dataframe\">\n",
       "  <thead>\n",
       "    <tr style=\"text-align: right;\">\n",
       "      <th></th>\n",
       "      <th>hotel</th>\n",
       "      <th>is_canceled</th>\n",
       "      <th>lead_time</th>\n",
       "      <th>arrival_date_year</th>\n",
       "      <th>arrival_date_month</th>\n",
       "      <th>arrival_date_week_number</th>\n",
       "      <th>arrival_date_day_of_month</th>\n",
       "      <th>stays_in_weekend_nights</th>\n",
       "      <th>stays_in_week_nights</th>\n",
       "      <th>adults</th>\n",
       "      <th>...</th>\n",
       "      <th>deposit_type</th>\n",
       "      <th>agent</th>\n",
       "      <th>company</th>\n",
       "      <th>days_in_waiting_list</th>\n",
       "      <th>customer_type</th>\n",
       "      <th>adr</th>\n",
       "      <th>required_car_parking_spaces</th>\n",
       "      <th>total_of_special_requests</th>\n",
       "      <th>reservation_status</th>\n",
       "      <th>reservation_status_date</th>\n",
       "    </tr>\n",
       "  </thead>\n",
       "  <tbody>\n",
       "    <tr>\n",
       "      <th>0</th>\n",
       "      <td>Resort Hotel</td>\n",
       "      <td>0</td>\n",
       "      <td>342</td>\n",
       "      <td>2015</td>\n",
       "      <td>July</td>\n",
       "      <td>27</td>\n",
       "      <td>1</td>\n",
       "      <td>0</td>\n",
       "      <td>0</td>\n",
       "      <td>2</td>\n",
       "      <td>...</td>\n",
       "      <td>No Deposit</td>\n",
       "      <td>NaN</td>\n",
       "      <td>NaN</td>\n",
       "      <td>0</td>\n",
       "      <td>Transient</td>\n",
       "      <td>0.0</td>\n",
       "      <td>0</td>\n",
       "      <td>0</td>\n",
       "      <td>Check-Out</td>\n",
       "      <td>2015-07-01</td>\n",
       "    </tr>\n",
       "    <tr>\n",
       "      <th>1</th>\n",
       "      <td>Resort Hotel</td>\n",
       "      <td>0</td>\n",
       "      <td>737</td>\n",
       "      <td>2015</td>\n",
       "      <td>July</td>\n",
       "      <td>27</td>\n",
       "      <td>1</td>\n",
       "      <td>0</td>\n",
       "      <td>0</td>\n",
       "      <td>2</td>\n",
       "      <td>...</td>\n",
       "      <td>No Deposit</td>\n",
       "      <td>NaN</td>\n",
       "      <td>NaN</td>\n",
       "      <td>0</td>\n",
       "      <td>Transient</td>\n",
       "      <td>0.0</td>\n",
       "      <td>0</td>\n",
       "      <td>0</td>\n",
       "      <td>Check-Out</td>\n",
       "      <td>2015-07-01</td>\n",
       "    </tr>\n",
       "    <tr>\n",
       "      <th>2</th>\n",
       "      <td>Resort Hotel</td>\n",
       "      <td>0</td>\n",
       "      <td>7</td>\n",
       "      <td>2015</td>\n",
       "      <td>July</td>\n",
       "      <td>27</td>\n",
       "      <td>1</td>\n",
       "      <td>0</td>\n",
       "      <td>1</td>\n",
       "      <td>1</td>\n",
       "      <td>...</td>\n",
       "      <td>No Deposit</td>\n",
       "      <td>NaN</td>\n",
       "      <td>NaN</td>\n",
       "      <td>0</td>\n",
       "      <td>Transient</td>\n",
       "      <td>75.0</td>\n",
       "      <td>0</td>\n",
       "      <td>0</td>\n",
       "      <td>Check-Out</td>\n",
       "      <td>2015-07-02</td>\n",
       "    </tr>\n",
       "    <tr>\n",
       "      <th>3</th>\n",
       "      <td>Resort Hotel</td>\n",
       "      <td>0</td>\n",
       "      <td>13</td>\n",
       "      <td>2015</td>\n",
       "      <td>July</td>\n",
       "      <td>27</td>\n",
       "      <td>1</td>\n",
       "      <td>0</td>\n",
       "      <td>1</td>\n",
       "      <td>1</td>\n",
       "      <td>...</td>\n",
       "      <td>No Deposit</td>\n",
       "      <td>304.0</td>\n",
       "      <td>NaN</td>\n",
       "      <td>0</td>\n",
       "      <td>Transient</td>\n",
       "      <td>75.0</td>\n",
       "      <td>0</td>\n",
       "      <td>0</td>\n",
       "      <td>Check-Out</td>\n",
       "      <td>2015-07-02</td>\n",
       "    </tr>\n",
       "    <tr>\n",
       "      <th>4</th>\n",
       "      <td>Resort Hotel</td>\n",
       "      <td>0</td>\n",
       "      <td>14</td>\n",
       "      <td>2015</td>\n",
       "      <td>July</td>\n",
       "      <td>27</td>\n",
       "      <td>1</td>\n",
       "      <td>0</td>\n",
       "      <td>2</td>\n",
       "      <td>2</td>\n",
       "      <td>...</td>\n",
       "      <td>No Deposit</td>\n",
       "      <td>240.0</td>\n",
       "      <td>NaN</td>\n",
       "      <td>0</td>\n",
       "      <td>Transient</td>\n",
       "      <td>98.0</td>\n",
       "      <td>0</td>\n",
       "      <td>1</td>\n",
       "      <td>Check-Out</td>\n",
       "      <td>2015-07-03</td>\n",
       "    </tr>\n",
       "  </tbody>\n",
       "</table>\n",
       "<p>5 rows × 32 columns</p>\n",
       "</div>"
      ],
      "text/plain": [
       "          hotel  is_canceled  lead_time  arrival_date_year arrival_date_month  \\\n",
       "0  Resort Hotel            0        342               2015               July   \n",
       "1  Resort Hotel            0        737               2015               July   \n",
       "2  Resort Hotel            0          7               2015               July   \n",
       "3  Resort Hotel            0         13               2015               July   \n",
       "4  Resort Hotel            0         14               2015               July   \n",
       "\n",
       "   arrival_date_week_number  arrival_date_day_of_month  \\\n",
       "0                        27                          1   \n",
       "1                        27                          1   \n",
       "2                        27                          1   \n",
       "3                        27                          1   \n",
       "4                        27                          1   \n",
       "\n",
       "   stays_in_weekend_nights  stays_in_week_nights  adults  ...  deposit_type  \\\n",
       "0                        0                     0       2  ...    No Deposit   \n",
       "1                        0                     0       2  ...    No Deposit   \n",
       "2                        0                     1       1  ...    No Deposit   \n",
       "3                        0                     1       1  ...    No Deposit   \n",
       "4                        0                     2       2  ...    No Deposit   \n",
       "\n",
       "   agent company days_in_waiting_list customer_type   adr  \\\n",
       "0    NaN     NaN                    0     Transient   0.0   \n",
       "1    NaN     NaN                    0     Transient   0.0   \n",
       "2    NaN     NaN                    0     Transient  75.0   \n",
       "3  304.0     NaN                    0     Transient  75.0   \n",
       "4  240.0     NaN                    0     Transient  98.0   \n",
       "\n",
       "   required_car_parking_spaces  total_of_special_requests  reservation_status  \\\n",
       "0                            0                          0           Check-Out   \n",
       "1                            0                          0           Check-Out   \n",
       "2                            0                          0           Check-Out   \n",
       "3                            0                          0           Check-Out   \n",
       "4                            0                          1           Check-Out   \n",
       "\n",
       "  reservation_status_date  \n",
       "0              2015-07-01  \n",
       "1              2015-07-01  \n",
       "2              2015-07-02  \n",
       "3              2015-07-02  \n",
       "4              2015-07-03  \n",
       "\n",
       "[5 rows x 32 columns]"
      ]
     },
     "execution_count": 2,
     "metadata": {},
     "output_type": "execute_result"
    }
   ],
   "source": [
    "df=pd.read_csv('hotel_bookings.csv')\n",
    "df.head(5)"
   ]
  },
  {
   "cell_type": "code",
   "execution_count": 3,
   "metadata": {
    "colab": {
     "base_uri": "https://localhost:8080/"
    },
    "id": "beH7pJyyvVF6",
    "outputId": "0e87d830-ebd7-4f42-f87f-340bedb3e5aa"
   },
   "outputs": [
    {
     "data": {
      "text/plain": [
       "hotel                                  0\n",
       "is_canceled                            0\n",
       "lead_time                              0\n",
       "arrival_date_year                      0\n",
       "arrival_date_month                     0\n",
       "arrival_date_week_number               0\n",
       "arrival_date_day_of_month              0\n",
       "stays_in_weekend_nights                0\n",
       "stays_in_week_nights                   0\n",
       "adults                                 0\n",
       "children                               4\n",
       "babies                                 0\n",
       "meal                                   0\n",
       "country                              488\n",
       "market_segment                         0\n",
       "distribution_channel                   0\n",
       "is_repeated_guest                      0\n",
       "previous_cancellations                 0\n",
       "previous_bookings_not_canceled         0\n",
       "reserved_room_type                     0\n",
       "assigned_room_type                     0\n",
       "booking_changes                        0\n",
       "deposit_type                           0\n",
       "agent                              16340\n",
       "company                           112593\n",
       "days_in_waiting_list                   0\n",
       "customer_type                          0\n",
       "adr                                    0\n",
       "required_car_parking_spaces            0\n",
       "total_of_special_requests              0\n",
       "reservation_status                     0\n",
       "reservation_status_date                0\n",
       "dtype: int64"
      ]
     },
     "execution_count": 3,
     "metadata": {},
     "output_type": "execute_result"
    }
   ],
   "source": [
    "# find out the nan values of original data\n",
    "df.isna().sum()"
   ]
  },
  {
   "cell_type": "code",
   "execution_count": 4,
   "metadata": {
    "id": "dmxUYsjxKNqM"
   },
   "outputs": [],
   "source": [
    "# delete columns that our group agreed on\n",
    "df_clean=df.drop(columns=['company','agent','meal','required_car_parking_spaces', 'babies', 'assigned_room_type',\n",
    "                          'customer_type', 'reservation_status', 'previous_bookings_not_canceled', \n",
    "                          'days_in_waiting_list', 'arrival_date_year',\"arrival_date_week_number\", \n",
    "                          \"arrival_date_day_of_month\", \"reservation_status_date\", \"adr\"])"
   ]
  },
  {
   "cell_type": "code",
   "execution_count": 5,
   "metadata": {
    "id": "5FqW1cDVtzni"
   },
   "outputs": [],
   "source": [
    "for i, v in enumerate(df_clean['country']):\n",
    "    if v == 'PRT':\n",
    "        df_clean.loc[i, 'origin_Portugal'] = 1\n",
    "    else:\n",
    "        df_clean.loc[i, 'origin_Portugal'] = 0"
   ]
  },
  {
   "cell_type": "code",
   "execution_count": 6,
   "metadata": {
    "id": "jNKxWsf4ylcw"
   },
   "outputs": [],
   "source": [
    "for i, v in enumerate(df_clean['reserved_room_type']):\n",
    "    if v == 'A':\n",
    "        df_clean.loc[i, 'reserved_standard_room'] = 1\n",
    "    else:\n",
    "        df_clean.loc[i, 'reserved_standard_room'] = 0"
   ]
  },
  {
   "cell_type": "code",
   "execution_count": 7,
   "metadata": {
    "id": "jj9WrmaMzGSg"
   },
   "outputs": [],
   "source": [
    "for i, v in enumerate(df_clean['booking_changes']):\n",
    "    if v == 0:\n",
    "        df_clean.loc[i, 'made_booking_changes'] = 0\n",
    "    else:\n",
    "        df_clean.loc[i, 'made_booking_changes'] = 1"
   ]
  },
  {
   "cell_type": "code",
   "execution_count": 8,
   "metadata": {
    "id": "aep1g_llzbUF"
   },
   "outputs": [],
   "source": [
    "for i, v in enumerate(df_clean['total_of_special_requests']):\n",
    "    if v == 0:\n",
    "        df_clean.loc[i, 'made_special_requests'] = 0\n",
    "    else:\n",
    "        df_clean.loc[i, 'made_special_requests'] = 1"
   ]
  },
  {
   "cell_type": "code",
   "execution_count": 9,
   "metadata": {
    "id": "0iqrGfhN1V4f"
   },
   "outputs": [],
   "source": [
    "for i, v in enumerate(df_clean['adults']):\n",
    "    if v == 1:\n",
    "        df_clean.loc[i, 'come_alone'] = 1\n",
    "    else:\n",
    "        df_clean.loc[i, 'come_alone'] = 0"
   ]
  },
  {
   "cell_type": "code",
   "execution_count": 10,
   "metadata": {
    "id": "DVHrugCx1Yz3"
   },
   "outputs": [],
   "source": [
    "for i, v in enumerate(df_clean['children']):\n",
    "    if v == 0:\n",
    "        df_clean.loc[i, 'with_chilren'] = 0\n",
    "    else:\n",
    "        df_clean.loc[i, 'with_chilren'] = 1"
   ]
  },
  {
   "cell_type": "code",
   "execution_count": 11,
   "metadata": {
    "id": "kGrqVRrVJsAo"
   },
   "outputs": [],
   "source": [
    "for i, v in enumerate(df_clean['deposit_type']):\n",
    "    if v == 'No Deposit':\n",
    "        df_clean.loc[i, 'no_deposit'] = 1\n",
    "    else:\n",
    "        df_clean.loc[i, 'no_deposit'] = 0"
   ]
  },
  {
   "cell_type": "code",
   "execution_count": 12,
   "metadata": {
    "id": "j6v9U4sQJsFP"
   },
   "outputs": [],
   "source": [
    "for i, v in enumerate(df_clean['distribution_channel']):\n",
    "    if v == 'TA/TO':\n",
    "        df_clean.loc[i, 'travel_agents/tour_operators_distributed'] = 1\n",
    "        df_clean.loc[i, 'direct_distributed'] = 0\n",
    "    elif v == 'Direct':\n",
    "        df_clean.loc[i, 'travel_agents/tour_operators_distributed'] = 0\n",
    "        df_clean.loc[i, 'direct_distributed'] = 1\n",
    "    else:\n",
    "        df_clean.loc[i, 'travel_agents/tour_operators_distributed'] = 0\n",
    "        df_clean.loc[i, 'direct_distributed'] = 0"
   ]
  },
  {
   "cell_type": "code",
   "execution_count": 13,
   "metadata": {
    "id": "KC9gy3FjJsQJ"
   },
   "outputs": [],
   "source": [
    "for i, v in enumerate(df_clean['market_segment']):\n",
    "    if v == 'Online TA':\n",
    "        df_clean.loc[i, 'online_purchased'] = 1\n",
    "    else:\n",
    "        df_clean.loc[i, 'online_purchased'] = 0"
   ]
  },
  {
   "cell_type": "code",
   "execution_count": 15,
   "metadata": {
    "id": "E8Q5T_3P3iNz"
   },
   "outputs": [],
   "source": [
    "winter_season = ['November','December','January','Feburary']\n",
    "peak_season = ['June', 'July' ,'August']\n",
    "\n",
    "for i, v in enumerate(df_clean['arrival_date_month']):\n",
    "    if v in winter_season:\n",
    "        df_clean.loc[i, 'arrival_winter_season'] = 1\n",
    "        df_clean.loc[i, 'arrival_peak_season'] = 0\n",
    "    elif v in peak_season:\n",
    "        df_clean.loc[i, 'arrival_peak_season'] = 1\n",
    "        df_clean.loc[i, 'arrival_winter_season'] = 0\n",
    "    else:\n",
    "        df_clean.loc[i, 'arrival_winter_season'] = 0\n",
    "        df_clean.loc[i, 'arrival_peak_season'] = 0"
   ]
  },
  {
   "cell_type": "code",
   "execution_count": 16,
   "metadata": {},
   "outputs": [],
   "source": [
    "for i, v in enumerate(df_clean[\"previous_cancellations\"]):\n",
    "    if v == 0:\n",
    "        df_clean.loc[i, 'has_previous_cancellations'] = 0\n",
    "    else:\n",
    "        df_clean.loc[i, 'has_previous_cancellations'] = 1\n",
    "        "
   ]
  },
  {
   "cell_type": "code",
   "execution_count": 17,
   "metadata": {},
   "outputs": [],
   "source": [
    "for i, v in enumerate(df_clean['hotel']):\n",
    "    if v == 'Resort Hotel':\n",
    "        df_clean.loc[i, 'city_hotel'] = 0\n",
    "    if v == 'City Hotel':\n",
    "        df_clean.loc[i, 'city_hotel'] = 1"
   ]
  },
  {
   "cell_type": "code",
   "execution_count": 18,
   "metadata": {
    "id": "IQ_SGBWI22xA"
   },
   "outputs": [],
   "source": [
    "# standardize numerical variables\n",
    "ncategories=['lead_time', 'stays_in_weekend_nights','stays_in_week_nights' ]\n",
    "\n",
    "df_clean['lead_time'] = (df_clean['lead_time'] - df_clean['lead_time'].mean()) / df_clean['lead_time'].std()\n",
    "\n",
    "df_clean['stays_in_week_nights'] = (df_clean['stays_in_week_nights'] - df_clean['stays_in_week_nights'].mean()) / df_clean['stays_in_week_nights'].std()\n",
    "\n",
    "df_clean['stays_in_weekend_nights'] = (df_clean['stays_in_weekend_nights'] - df_clean['stays_in_weekend_nights'].mean()) / df_clean['stays_in_weekend_nights'].std()\n"
   ]
  },
  {
   "cell_type": "code",
   "execution_count": 19,
   "metadata": {
    "id": "qgcZcv_A01MT"
   },
   "outputs": [],
   "source": [
    "# clean up the original columns after creating the dummy ones\n",
    "df_clean=df_clean.drop(columns=['country','reserved_room_type','booking_changes','total_of_special_requests',\n",
    "                                'adults','children','deposit_type','distribution_channel','market_segment',\n",
    "                               'hotel', 'arrival_date_month', 'previous_cancellations'])\n"
   ]
  },
  {
   "cell_type": "code",
   "execution_count": 27,
   "metadata": {
    "colab": {
     "base_uri": "https://localhost:8080/"
    },
    "id": "OXPYrKgISyk_",
    "outputId": "f4896c0b-f87c-41e1-9a49-40d84b723cff"
   },
   "outputs": [
    {
     "data": {
      "text/plain": [
       "is_canceled                                 0\n",
       "lead_time                                   0\n",
       "stays_in_weekend_nights                     0\n",
       "stays_in_week_nights                        0\n",
       "is_repeated_guest                           0\n",
       "origin_Portugal                             0\n",
       "reserved_standard_room                      0\n",
       "made_booking_changes                        0\n",
       "made_special_requests                       0\n",
       "come_alone                                  0\n",
       "with_chilren                                0\n",
       "no_deposit                                  0\n",
       "travel_agents/tour_operators_distributed    0\n",
       "direct_distributed                          0\n",
       "online_purchased                            0\n",
       "arrival_peak_season                         0\n",
       "arrival_winter_season                       0\n",
       "has_previous_cancellations                  0\n",
       "city_hotel                                  0\n",
       "dtype: int64"
      ]
     },
     "execution_count": 27,
     "metadata": {},
     "output_type": "execute_result"
    }
   ],
   "source": [
    "df_clean.isna().sum()"
   ]
  },
  {
   "cell_type": "code",
   "execution_count": 28,
   "metadata": {
    "colab": {
     "base_uri": "https://localhost:8080/"
    },
    "id": "qeYmvLbUjXHR",
    "outputId": "9a473bcb-65d5-4563-d42f-b97359a6ddb5"
   },
   "outputs": [
    {
     "data": {
      "text/plain": [
       "(119390, 19)"
      ]
     },
     "execution_count": 28,
     "metadata": {},
     "output_type": "execute_result"
    }
   ],
   "source": [
    "df_clean.shape"
   ]
  },
  {
   "cell_type": "code",
   "execution_count": 22,
   "metadata": {},
   "outputs": [
    {
     "data": {
      "text/html": [
       "<div>\n",
       "<style scoped>\n",
       "    .dataframe tbody tr th:only-of-type {\n",
       "        vertical-align: middle;\n",
       "    }\n",
       "\n",
       "    .dataframe tbody tr th {\n",
       "        vertical-align: top;\n",
       "    }\n",
       "\n",
       "    .dataframe thead th {\n",
       "        text-align: right;\n",
       "    }\n",
       "</style>\n",
       "<table border=\"1\" class=\"dataframe\">\n",
       "  <thead>\n",
       "    <tr style=\"text-align: right;\">\n",
       "      <th></th>\n",
       "      <th>is_canceled</th>\n",
       "      <th>lead_time</th>\n",
       "      <th>stays_in_weekend_nights</th>\n",
       "      <th>stays_in_week_nights</th>\n",
       "      <th>is_repeated_guest</th>\n",
       "      <th>previous_cancellations</th>\n",
       "      <th>origin_Portugal</th>\n",
       "      <th>reserved_standard_room</th>\n",
       "      <th>made_booking_changes</th>\n",
       "      <th>made_special_requests</th>\n",
       "      <th>come_alone</th>\n",
       "      <th>with_chilren</th>\n",
       "      <th>no_deposit</th>\n",
       "      <th>travel_agents/tour_operators_distributed</th>\n",
       "      <th>direct_distributed</th>\n",
       "      <th>online_purchased</th>\n",
       "      <th>arrival_peak_season</th>\n",
       "      <th>arrival_winter_season</th>\n",
       "      <th>has_previous_cancellations</th>\n",
       "      <th>city_hotel</th>\n",
       "    </tr>\n",
       "  </thead>\n",
       "  <tbody>\n",
       "    <tr>\n",
       "      <th>0</th>\n",
       "      <td>0</td>\n",
       "      <td>2.227042</td>\n",
       "      <td>-0.928887</td>\n",
       "      <td>-1.310234</td>\n",
       "      <td>0</td>\n",
       "      <td>0</td>\n",
       "      <td>1.0</td>\n",
       "      <td>0.0</td>\n",
       "      <td>1.0</td>\n",
       "      <td>0.0</td>\n",
       "      <td>0.0</td>\n",
       "      <td>0.0</td>\n",
       "      <td>1.0</td>\n",
       "      <td>0.0</td>\n",
       "      <td>1.0</td>\n",
       "      <td>0.0</td>\n",
       "      <td>1.0</td>\n",
       "      <td>0.0</td>\n",
       "      <td>0.0</td>\n",
       "      <td>0.0</td>\n",
       "    </tr>\n",
       "    <tr>\n",
       "      <th>1</th>\n",
       "      <td>0</td>\n",
       "      <td>5.923360</td>\n",
       "      <td>-0.928887</td>\n",
       "      <td>-1.310234</td>\n",
       "      <td>0</td>\n",
       "      <td>0</td>\n",
       "      <td>1.0</td>\n",
       "      <td>0.0</td>\n",
       "      <td>1.0</td>\n",
       "      <td>0.0</td>\n",
       "      <td>0.0</td>\n",
       "      <td>0.0</td>\n",
       "      <td>1.0</td>\n",
       "      <td>0.0</td>\n",
       "      <td>1.0</td>\n",
       "      <td>0.0</td>\n",
       "      <td>1.0</td>\n",
       "      <td>0.0</td>\n",
       "      <td>0.0</td>\n",
       "      <td>0.0</td>\n",
       "    </tr>\n",
       "    <tr>\n",
       "      <th>2</th>\n",
       "      <td>0</td>\n",
       "      <td>-0.907810</td>\n",
       "      <td>-0.928887</td>\n",
       "      <td>-0.786204</td>\n",
       "      <td>0</td>\n",
       "      <td>0</td>\n",
       "      <td>0.0</td>\n",
       "      <td>1.0</td>\n",
       "      <td>0.0</td>\n",
       "      <td>0.0</td>\n",
       "      <td>1.0</td>\n",
       "      <td>0.0</td>\n",
       "      <td>1.0</td>\n",
       "      <td>0.0</td>\n",
       "      <td>1.0</td>\n",
       "      <td>0.0</td>\n",
       "      <td>1.0</td>\n",
       "      <td>0.0</td>\n",
       "      <td>0.0</td>\n",
       "      <td>0.0</td>\n",
       "    </tr>\n",
       "    <tr>\n",
       "      <th>3</th>\n",
       "      <td>0</td>\n",
       "      <td>-0.851664</td>\n",
       "      <td>-0.928887</td>\n",
       "      <td>-0.786204</td>\n",
       "      <td>0</td>\n",
       "      <td>0</td>\n",
       "      <td>0.0</td>\n",
       "      <td>1.0</td>\n",
       "      <td>0.0</td>\n",
       "      <td>0.0</td>\n",
       "      <td>1.0</td>\n",
       "      <td>0.0</td>\n",
       "      <td>1.0</td>\n",
       "      <td>0.0</td>\n",
       "      <td>0.0</td>\n",
       "      <td>0.0</td>\n",
       "      <td>1.0</td>\n",
       "      <td>0.0</td>\n",
       "      <td>0.0</td>\n",
       "      <td>0.0</td>\n",
       "    </tr>\n",
       "    <tr>\n",
       "      <th>4</th>\n",
       "      <td>0</td>\n",
       "      <td>-0.842306</td>\n",
       "      <td>-0.928887</td>\n",
       "      <td>-0.262173</td>\n",
       "      <td>0</td>\n",
       "      <td>0</td>\n",
       "      <td>0.0</td>\n",
       "      <td>1.0</td>\n",
       "      <td>0.0</td>\n",
       "      <td>1.0</td>\n",
       "      <td>0.0</td>\n",
       "      <td>0.0</td>\n",
       "      <td>1.0</td>\n",
       "      <td>1.0</td>\n",
       "      <td>0.0</td>\n",
       "      <td>1.0</td>\n",
       "      <td>1.0</td>\n",
       "      <td>0.0</td>\n",
       "      <td>0.0</td>\n",
       "      <td>0.0</td>\n",
       "    </tr>\n",
       "    <tr>\n",
       "      <th>...</th>\n",
       "      <td>...</td>\n",
       "      <td>...</td>\n",
       "      <td>...</td>\n",
       "      <td>...</td>\n",
       "      <td>...</td>\n",
       "      <td>...</td>\n",
       "      <td>...</td>\n",
       "      <td>...</td>\n",
       "      <td>...</td>\n",
       "      <td>...</td>\n",
       "      <td>...</td>\n",
       "      <td>...</td>\n",
       "      <td>...</td>\n",
       "      <td>...</td>\n",
       "      <td>...</td>\n",
       "      <td>...</td>\n",
       "      <td>...</td>\n",
       "      <td>...</td>\n",
       "      <td>...</td>\n",
       "      <td>...</td>\n",
       "    </tr>\n",
       "    <tr>\n",
       "      <th>119385</th>\n",
       "      <td>0</td>\n",
       "      <td>-0.758086</td>\n",
       "      <td>1.073890</td>\n",
       "      <td>1.309918</td>\n",
       "      <td>0</td>\n",
       "      <td>0</td>\n",
       "      <td>0.0</td>\n",
       "      <td>1.0</td>\n",
       "      <td>0.0</td>\n",
       "      <td>0.0</td>\n",
       "      <td>0.0</td>\n",
       "      <td>0.0</td>\n",
       "      <td>1.0</td>\n",
       "      <td>1.0</td>\n",
       "      <td>0.0</td>\n",
       "      <td>0.0</td>\n",
       "      <td>1.0</td>\n",
       "      <td>0.0</td>\n",
       "      <td>0.0</td>\n",
       "      <td>1.0</td>\n",
       "    </tr>\n",
       "    <tr>\n",
       "      <th>119386</th>\n",
       "      <td>0</td>\n",
       "      <td>-0.018822</td>\n",
       "      <td>1.073890</td>\n",
       "      <td>1.309918</td>\n",
       "      <td>0</td>\n",
       "      <td>0</td>\n",
       "      <td>0.0</td>\n",
       "      <td>0.0</td>\n",
       "      <td>0.0</td>\n",
       "      <td>1.0</td>\n",
       "      <td>0.0</td>\n",
       "      <td>0.0</td>\n",
       "      <td>1.0</td>\n",
       "      <td>1.0</td>\n",
       "      <td>0.0</td>\n",
       "      <td>1.0</td>\n",
       "      <td>1.0</td>\n",
       "      <td>0.0</td>\n",
       "      <td>0.0</td>\n",
       "      <td>1.0</td>\n",
       "    </tr>\n",
       "    <tr>\n",
       "      <th>119387</th>\n",
       "      <td>0</td>\n",
       "      <td>-0.655151</td>\n",
       "      <td>1.073890</td>\n",
       "      <td>1.309918</td>\n",
       "      <td>0</td>\n",
       "      <td>0</td>\n",
       "      <td>0.0</td>\n",
       "      <td>0.0</td>\n",
       "      <td>0.0</td>\n",
       "      <td>1.0</td>\n",
       "      <td>0.0</td>\n",
       "      <td>0.0</td>\n",
       "      <td>1.0</td>\n",
       "      <td>1.0</td>\n",
       "      <td>0.0</td>\n",
       "      <td>1.0</td>\n",
       "      <td>1.0</td>\n",
       "      <td>0.0</td>\n",
       "      <td>0.0</td>\n",
       "      <td>1.0</td>\n",
       "    </tr>\n",
       "    <tr>\n",
       "      <th>119388</th>\n",
       "      <td>0</td>\n",
       "      <td>0.046682</td>\n",
       "      <td>1.073890</td>\n",
       "      <td>1.309918</td>\n",
       "      <td>0</td>\n",
       "      <td>0</td>\n",
       "      <td>0.0</td>\n",
       "      <td>1.0</td>\n",
       "      <td>0.0</td>\n",
       "      <td>0.0</td>\n",
       "      <td>0.0</td>\n",
       "      <td>0.0</td>\n",
       "      <td>1.0</td>\n",
       "      <td>1.0</td>\n",
       "      <td>0.0</td>\n",
       "      <td>1.0</td>\n",
       "      <td>1.0</td>\n",
       "      <td>0.0</td>\n",
       "      <td>0.0</td>\n",
       "      <td>1.0</td>\n",
       "    </tr>\n",
       "    <tr>\n",
       "      <th>119389</th>\n",
       "      <td>0</td>\n",
       "      <td>0.945028</td>\n",
       "      <td>1.073890</td>\n",
       "      <td>2.357980</td>\n",
       "      <td>0</td>\n",
       "      <td>0</td>\n",
       "      <td>0.0</td>\n",
       "      <td>1.0</td>\n",
       "      <td>0.0</td>\n",
       "      <td>1.0</td>\n",
       "      <td>0.0</td>\n",
       "      <td>0.0</td>\n",
       "      <td>1.0</td>\n",
       "      <td>1.0</td>\n",
       "      <td>0.0</td>\n",
       "      <td>1.0</td>\n",
       "      <td>1.0</td>\n",
       "      <td>0.0</td>\n",
       "      <td>0.0</td>\n",
       "      <td>1.0</td>\n",
       "    </tr>\n",
       "  </tbody>\n",
       "</table>\n",
       "<p>119390 rows × 20 columns</p>\n",
       "</div>"
      ],
      "text/plain": [
       "        is_canceled  lead_time  stays_in_weekend_nights  stays_in_week_nights  \\\n",
       "0                 0   2.227042                -0.928887             -1.310234   \n",
       "1                 0   5.923360                -0.928887             -1.310234   \n",
       "2                 0  -0.907810                -0.928887             -0.786204   \n",
       "3                 0  -0.851664                -0.928887             -0.786204   \n",
       "4                 0  -0.842306                -0.928887             -0.262173   \n",
       "...             ...        ...                      ...                   ...   \n",
       "119385            0  -0.758086                 1.073890              1.309918   \n",
       "119386            0  -0.018822                 1.073890              1.309918   \n",
       "119387            0  -0.655151                 1.073890              1.309918   \n",
       "119388            0   0.046682                 1.073890              1.309918   \n",
       "119389            0   0.945028                 1.073890              2.357980   \n",
       "\n",
       "        is_repeated_guest  previous_cancellations  origin_Portugal  \\\n",
       "0                       0                       0              1.0   \n",
       "1                       0                       0              1.0   \n",
       "2                       0                       0              0.0   \n",
       "3                       0                       0              0.0   \n",
       "4                       0                       0              0.0   \n",
       "...                   ...                     ...              ...   \n",
       "119385                  0                       0              0.0   \n",
       "119386                  0                       0              0.0   \n",
       "119387                  0                       0              0.0   \n",
       "119388                  0                       0              0.0   \n",
       "119389                  0                       0              0.0   \n",
       "\n",
       "        reserved_standard_room  made_booking_changes  made_special_requests  \\\n",
       "0                          0.0                   1.0                    0.0   \n",
       "1                          0.0                   1.0                    0.0   \n",
       "2                          1.0                   0.0                    0.0   \n",
       "3                          1.0                   0.0                    0.0   \n",
       "4                          1.0                   0.0                    1.0   \n",
       "...                        ...                   ...                    ...   \n",
       "119385                     1.0                   0.0                    0.0   \n",
       "119386                     0.0                   0.0                    1.0   \n",
       "119387                     0.0                   0.0                    1.0   \n",
       "119388                     1.0                   0.0                    0.0   \n",
       "119389                     1.0                   0.0                    1.0   \n",
       "\n",
       "        come_alone  with_chilren  no_deposit  \\\n",
       "0              0.0           0.0         1.0   \n",
       "1              0.0           0.0         1.0   \n",
       "2              1.0           0.0         1.0   \n",
       "3              1.0           0.0         1.0   \n",
       "4              0.0           0.0         1.0   \n",
       "...            ...           ...         ...   \n",
       "119385         0.0           0.0         1.0   \n",
       "119386         0.0           0.0         1.0   \n",
       "119387         0.0           0.0         1.0   \n",
       "119388         0.0           0.0         1.0   \n",
       "119389         0.0           0.0         1.0   \n",
       "\n",
       "        travel_agents/tour_operators_distributed  direct_distributed  \\\n",
       "0                                            0.0                 1.0   \n",
       "1                                            0.0                 1.0   \n",
       "2                                            0.0                 1.0   \n",
       "3                                            0.0                 0.0   \n",
       "4                                            1.0                 0.0   \n",
       "...                                          ...                 ...   \n",
       "119385                                       1.0                 0.0   \n",
       "119386                                       1.0                 0.0   \n",
       "119387                                       1.0                 0.0   \n",
       "119388                                       1.0                 0.0   \n",
       "119389                                       1.0                 0.0   \n",
       "\n",
       "        online_purchased  arrival_peak_season  arrival_winter_season  \\\n",
       "0                    0.0                  1.0                    0.0   \n",
       "1                    0.0                  1.0                    0.0   \n",
       "2                    0.0                  1.0                    0.0   \n",
       "3                    0.0                  1.0                    0.0   \n",
       "4                    1.0                  1.0                    0.0   \n",
       "...                  ...                  ...                    ...   \n",
       "119385               0.0                  1.0                    0.0   \n",
       "119386               1.0                  1.0                    0.0   \n",
       "119387               1.0                  1.0                    0.0   \n",
       "119388               1.0                  1.0                    0.0   \n",
       "119389               1.0                  1.0                    0.0   \n",
       "\n",
       "        has_previous_cancellations  city_hotel  \n",
       "0                              0.0         0.0  \n",
       "1                              0.0         0.0  \n",
       "2                              0.0         0.0  \n",
       "3                              0.0         0.0  \n",
       "4                              0.0         0.0  \n",
       "...                            ...         ...  \n",
       "119385                         0.0         1.0  \n",
       "119386                         0.0         1.0  \n",
       "119387                         0.0         1.0  \n",
       "119388                         0.0         1.0  \n",
       "119389                         0.0         1.0  \n",
       "\n",
       "[119390 rows x 20 columns]"
      ]
     },
     "execution_count": 22,
     "metadata": {},
     "output_type": "execute_result"
    }
   ],
   "source": [
    "df_clean"
   ]
  },
  {
   "cell_type": "code",
   "execution_count": 29,
   "metadata": {
    "id": "YAWVe16Qg7_H"
   },
   "outputs": [],
   "source": [
    "df_clean.to_csv('Hotel Cancellation.csv')"
   ]
  },
  {
   "cell_type": "code",
   "execution_count": 24,
   "metadata": {},
   "outputs": [
    {
     "data": {
      "text/plain": [
       "Text(0.5, 1, 'Diagonal Correlation Matrix')"
      ]
     },
     "execution_count": 24,
     "metadata": {},
     "output_type": "execute_result"
    },
    {
     "data": {
      "image/png": "[encoded data removed]",
      "text/plain": [
       "<Figure size 1008x720 with 2 Axes>"
      ]
     },
     "metadata": {
      "needs_background": "light"
     },
     "output_type": "display_data"
    }
   ],
   "source": [
    "matrix = np.triu(df_clean.corr())\n",
    "plt.figure(figsize=(14,10))\n",
    "sns.heatmap(df_clean.corr(),annot = True,fmt='.1g',cmap= 'coolwarm', mask=matrix)\n",
    "plt.title(\"Diagonal Correlation Matrix\")"
   ]
  },
  {
   "cell_type": "code",
   "execution_count": 26,
   "metadata": {},
   "outputs": [
    {
     "data": {
      "text/plain": [
       "0.0    99887\n",
       "1.0    19503\n",
       "Name: arrival_winter_season, dtype: int64"
      ]
     },
     "execution_count": 26,
     "metadata": {},
     "output_type": "execute_result"
    }
   ],
   "source": [
    "df_clean[\"arrival_winter_season\"].value_counts()"
   ]
  }
 ],
 "metadata": {
  "colab": {
   "name": "Hotel Cancellation Prediction.ipynb",
   "provenance": []
  },
  "kernelspec": {
   "display_name": "Python 3",
   "language": "python",
   "name": "python3"
  },
  "language_info": {
   "codemirror_mode": {
    "name": "ipython",
    "version": 3
   },
   "file_extension": ".py",
   "mimetype": "text/x-python",
   "name": "python",
   "nbconvert_exporter": "python",
   "pygments_lexer": "ipython3",
   "version": "3.7.6"
  }
 },
 "nbformat": 4,
 "nbformat_minor": 1
}
